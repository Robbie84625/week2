{
 "cells": [
  {
   "cell_type": "code",
   "execution_count": 1,
   "id": "03795873",
   "metadata": {},
   "outputs": [],
   "source": [
    "import json\n",
    "def openFile(file):\n",
    "    with open (file,mode=\"r\") as file:\n",
    "        data=json.load(file)\n",
    "        return data\n"
   ]
  },
  {
   "cell_type": "code",
   "execution_count": 2,
   "id": "ed522740",
   "metadata": {},
   "outputs": [],
   "source": [
    "def func(*names):\n",
    "    dic = {}\n",
    "    for name in names:\n",
    "        if name[1] not in dic:\n",
    "            dic[name[1]] = 0\n",
    "        else:\n",
    "            dic[name[1]] = 1\n",
    "\n",
    "    for key, value in dic.items():\n",
    "        if value == 1:\n",
    "            print(key)"
   ]
  },
  {
   "cell_type": "code",
   "execution_count": 3,
   "id": "35c14206",
   "metadata": {
    "scrolled": true
   },
   "outputs": [
    {
     "name": "stdout",
     "output_type": "stream",
     "text": [
      "花\n"
     ]
    }
   ],
   "source": [
    "func('花花','挖來','小草','錢錢','小花')"
   ]
  },
  {
   "cell_type": "code",
   "execution_count": 25,
   "id": "5e2bcb2e",
   "metadata": {},
   "outputs": [
    {
     "name": "stdout",
     "output_type": "stream",
     "text": [
      "位置所在索引: 4\n"
     ]
    }
   ],
   "source": [
    "min_index = None\n",
    "min_number = float('inf')\n",
    "number = 2\n",
    "\n",
    "for index, (seat, stat) in enumerate(zip([3, 1, 5, 4, 2], [0, 1, 0, 1, 1])):\n",
    "    if stat != 0 and seat >= number:\n",
    "        min_number = seat\n",
    "        min_index = index\n",
    "\n",
    "if min_index is not None:\n",
    "    print(\"位置所在索引:\", min_index)\n",
    "else:\n",
    "    print(\"找不到符合条件的位置\")"
   ]
  },
  {
   "cell_type": "code",
   "execution_count": 42,
   "id": "2a06e0ec",
   "metadata": {},
   "outputs": [
    {
     "name": "stdout",
     "output_type": "stream",
     "text": [
      "0\n",
      "4\n",
      "3\n",
      "7\n",
      "6\n",
      "10\n",
      "9\n",
      "13\n",
      "12\n",
      "16\n",
      "15\n"
     ]
    }
   ],
   "source": [
    "total=0\n",
    "data=[]\n",
    "for i in range(11):\n",
    "    if i==0:\n",
    "        data.append(total)\n",
    "    elif i%2!=0:\n",
    "        total+=4\n",
    "        data.append(total)\n",
    "    \n",
    "    else:\n",
    "        total-=1\n",
    "        data.append(total)\n",
    "    print(total)"
   ]
  },
  {
   "cell_type": "code",
   "execution_count": 35,
   "id": "18faa947",
   "metadata": {},
   "outputs": [
    {
     "data": {
      "text/plain": [
       "[-1, 3, 7, 11, 15, 19]"
      ]
     },
     "execution_count": 35,
     "metadata": {},
     "output_type": "execute_result"
    }
   ],
   "source": [
    "data"
   ]
  },
  {
   "cell_type": "code",
   "execution_count": null,
   "id": "c9083bf3",
   "metadata": {},
   "outputs": [],
   "source": []
  }
 ],
 "metadata": {
  "kernelspec": {
   "display_name": "Python 3 (ipykernel)",
   "language": "python",
   "name": "python3"
  },
  "language_info": {
   "codemirror_mode": {
    "name": "ipython",
    "version": 3
   },
   "file_extension": ".py",
   "mimetype": "text/x-python",
   "name": "python",
   "nbconvert_exporter": "python",
   "pygments_lexer": "ipython3",
   "version": "3.7.13"
  }
 },
 "nbformat": 4,
 "nbformat_minor": 5
}
